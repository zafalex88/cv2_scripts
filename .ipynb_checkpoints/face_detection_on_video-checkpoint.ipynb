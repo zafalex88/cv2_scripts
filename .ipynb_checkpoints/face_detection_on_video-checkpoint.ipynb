{
 "cells": [
  {
   "cell_type": "code",
   "execution_count": 1,
   "metadata": {},
   "outputs": [],
   "source": [
    "import cv2"
   ]
  },
  {
   "cell_type": "code",
   "execution_count": 2,
   "metadata": {},
   "outputs": [],
   "source": [
    "#load the face_cascade xml\n",
    "face_cascade = cv2.CascadeClassifier(\"./haarcascades/haarcascade_frontalface_default.xml\")"
   ]
  },
  {
   "cell_type": "code",
   "execution_count": 3,
   "metadata": {},
   "outputs": [],
   "source": [
    "#creating face detection and rectangle around it function\n",
    "def detect_face(vid):\n",
    "    #detect face on video with classifier    \n",
    "    face_rects = face_cascade.detectMultiScale(vid)\n",
    "    \n",
    "    #draw rectangle in the coordinates on which face is detected\n",
    "    for (x,y,w,h) in face_rects:\n",
    "        cv2.rectangle(vid,(x,y),(x+w,y+h),(255,255,255),10)\n",
    "    \n",
    "    return vid"
   ]
  },
  {
   "cell_type": "code",
   "execution_count": 4,
   "metadata": {},
   "outputs": [],
   "source": [
    "#load camera and use detect face function on video\n",
    "\n",
    "cap = cv2.VideoCapture(0)\n",
    "\n",
    "while True:\n",
    "    \n",
    "    ret, frame = cap.read(0)\n",
    "    face_rec = detect_face(frame)\n",
    "    cv2.imshow(\"VIDEO FACE DETECT\", face_rec)\n",
    "    \n",
    "    if cv2.waitKey(1) & 0xFF == 27:\n",
    "        break\n",
    "\n",
    "#close camera and all windows when Esc is pressed\n",
    "cap.release()\n",
    "cv2.destroyAllWindows()"
   ]
  }
 ],
 "metadata": {
  "kernelspec": {
   "display_name": "Python 3",
   "language": "python",
   "name": "python3"
  },
  "language_info": {
   "codemirror_mode": {
    "name": "ipython",
    "version": 3
   },
   "file_extension": ".py",
   "mimetype": "text/x-python",
   "name": "python",
   "nbconvert_exporter": "python",
   "pygments_lexer": "ipython3",
   "version": "3.6.6"
  }
 },
 "nbformat": 4,
 "nbformat_minor": 2
}
