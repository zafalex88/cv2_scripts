{
 "cells": [
  {
   "cell_type": "code",
   "execution_count": 1,
   "metadata": {},
   "outputs": [],
   "source": [
    "import cv2\n",
    "import numpy as np\n",
    "\n",
    "def draw_circle(event,x,y,flags,params):\n",
    "    if event == cv2.EVENT_LBUTTONDOWN:\n",
    "        cv2.circle(new_img,(x,y),50,(255,0,0),5)\n",
    "    elif event == cv2.EVENT_RBUTTONDOWN:\n",
    "        cv2.circle(new_img,(x,y),50,(0,0,255),5)\n",
    "\n",
    "cv2.namedWindow(winname='Draw')\n",
    "cv2.setMouseCallback('Draw',draw_circle)\n",
    "img = cv2.imread('./00-puppy.jpg')\n",
    "h_ratio = 0.5\n",
    "w_ratio = 0.5\n",
    "new_img = cv2.resize(img,(0,0),img,w_ratio,h_ratio)\n",
    "while True:\n",
    "    cv2.imshow('Draw', new_img)\n",
    "    if cv2.waitKey(50) & 0xFF == 27:\n",
    "        break\n",
    "\n",
    "cv2.destroyAllWindows()"
   ]
  },
  {
   "cell_type": "code",
   "execution_count": null,
   "metadata": {},
   "outputs": [],
   "source": []
  }
 ],
 "metadata": {
  "language_info": {
   "codemirror_mode": {
    "name": "ipython",
    "version": 3
   },
   "file_extension": ".py",
   "mimetype": "text/x-python",
   "name": "python",
   "nbconvert_exporter": "python",
   "pygments_lexer": "ipython3",
   "version": "3.8.1-final"
  },
  "orig_nbformat": 2,
  "kernelspec": {
   "name": "python38132bit17583e10a98a4588a41a2b45ff4557be",
   "display_name": "Python 3.8.1 32-bit"
  }
 },
 "nbformat": 4,
 "nbformat_minor": 2
}