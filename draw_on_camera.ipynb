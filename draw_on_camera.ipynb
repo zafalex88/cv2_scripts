{
 "cells": [
  {
   "cell_type": "code",
   "execution_count": 1,
   "metadata": {},
   "outputs": [],
   "source": [
    "import cv2\n",
    "\n",
    "#CALLBACK FUNCTION FOR DRAWING\n",
    "def drawing(event,x,y,flags,param):\n",
    "    global pt1,pt2,topLeft_clicked,botRight_clicked,clicked,center\n",
    "    if event == cv2.EVENT_LBUTTONDOWN:\n",
    "        #RESET THE RECTANGLE (IT CHECKS IF RECT IS THERE)\n",
    "        if topLeft_clicked == True and botRight_clicked == True:\n",
    "            pt1 = (0,0)\n",
    "            pt2 = (0,0)\n",
    "            topLeft_clicked = False\n",
    "            botRight_clicked = False\n",
    "        #DRAW RECTANGLE (first click)\n",
    "        if topLeft_clicked == False:\n",
    "            pt1 = (x,y)\n",
    "            topLeft_clicked = True\n",
    "        #second click\n",
    "        elif botRight_clicked == False:\n",
    "            pt2 = (x,y)\n",
    "            botRight_clicked = True\n",
    "    #get coordinates for the circle center on click \n",
    "    if event == cv2.EVENT_RBUTTONDOWN:\n",
    "        center = (x,y)\n",
    "        clicked = False\n",
    "    #when we release the button then clicked is true and the circle is drawn\n",
    "    if event == cv2.EVENT_RBUTTONUP:\n",
    "        clicked = True\n",
    "\n",
    "#GLOBAL VARIABLES\n",
    "pt1 = (0,0)\n",
    "pt2 = (0,0)\n",
    "topLeft_clicked = False\n",
    "botRight_clicked = False\n",
    "center = (0,0)\n",
    "clicked = False\n",
    "\n",
    "#CONNECT TO CALLBACK\n",
    "cap = cv2.VideoCapture(0)\n",
    "cv2.namedWindow('Test')\n",
    "cv2.setMouseCallback('Test',drawing)\n",
    "\n",
    "while True:\n",
    "    ret, frame = cap.read()\n",
    "    \n",
    "    #DRAWING ON THE FRAME BASED ON GLOBAL VARIABLES\n",
    "    if topLeft_clicked:\n",
    "        cv2.circle(frame,center=pt1,radius=3,color=(0,0,255),thickness=-1)\n",
    "    if topLeft_clicked and botRight_clicked:\n",
    "        cv2.rectangle(frame,pt1,pt2,(0,0,255),3)\n",
    "    if clicked:\n",
    "        cv2.circle(frame,center,50,color=(255,0,0),thickness=5)\n",
    "    \n",
    "    cv2.imshow('Test',frame)\n",
    "    if cv2.waitKey(1) & 0xFF == ord('q'):\n",
    "        break\n",
    "        \n",
    "cap.release()\n",
    "cv2.destroyAllWindows()"
   ]
  },
  {
   "cell_type": "code",
   "execution_count": null,
   "metadata": {},
   "outputs": [],
   "source": []
  }
 ],
 "metadata": {
  "language_info": {
   "codemirror_mode": {
    "name": "ipython",
    "version": 3
   },
   "file_extension": ".py",
   "mimetype": "text/x-python",
   "name": "python",
   "nbconvert_exporter": "python",
   "pygments_lexer": "ipython3",
   "version": "3.8.1-final"
  },
  "orig_nbformat": 2,
  "kernelspec": {
   "name": "python38132bit17583e10a98a4588a41a2b45ff4557be",
   "display_name": "Python 3.8.1 32-bit"
  }
 },
 "nbformat": 4,
 "nbformat_minor": 2
}