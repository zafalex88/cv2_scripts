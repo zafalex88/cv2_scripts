{
 "cells": [
  {
   "cell_type": "code",
   "execution_count": null,
   "metadata": {},
   "outputs": [
    {
     "name": "stdout",
     "output_type": "stream",
     "text": [
      "Enter the path of the image file you want to draw: ./images.jpg\n"
     ]
    }
   ],
   "source": [
    "import cv2\n",
    "import numpy as np\n",
    "from PIL import Image\n",
    "\n",
    "path = input(\"Enter the path of the image file you want to draw: \")\n",
    "img = Image.open(path)\n",
    "img_arr = np.asarray(img)\n",
    "\n",
    "def draw_circle(event,x,y,flags,params):\n",
    "    if event == cv2.EVENT_LBUTTONDOWN:\n",
    "        cv2.circle(img_arr,(x,y),50,(255,0,0),5)\n",
    "    elif event == cv2.EVENT_RBUTTONDOWN:\n",
    "        cv2.circle(img_arr,(x,y),50,(0,0,255),5)\n",
    "\n",
    "cv2.namedWindow(winname='Draw')\n",
    "cv2.setMouseCallback('Draw',draw_circle)\n",
    "#img = np.ones((500,500,3))\n",
    "\n",
    "while True:\n",
    "    cv2.imshow('Draw', img_arr)\n",
    "    if cv2.waitKey(50) & 0xFF == 27:\n",
    "        break\n",
    "\n",
    "cv2.destroyAllWindows()"
   ]
  },
  {
   "cell_type": "code",
   "execution_count": null,
   "metadata": {},
   "outputs": [],
   "source": []
  }
 ],
 "metadata": {
  "kernelspec": {
   "display_name": "Python 3.8.1 32-bit",
   "language": "python",
   "name": "python38132bit17583e10a98a4588a41a2b45ff4557be"
  },
  "language_info": {
   "codemirror_mode": {
    "name": "ipython",
    "version": 3
   },
   "file_extension": ".py",
   "mimetype": "text/x-python",
   "name": "python",
   "nbconvert_exporter": "python",
   "pygments_lexer": "ipython3",
   "version": "3.8.1"
  }
 },
 "nbformat": 4,
 "nbformat_minor": 2
}
